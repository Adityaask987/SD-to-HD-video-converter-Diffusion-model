{
  "cells": [
    {
      "cell_type": "code",
      "execution_count": null,
      "id": "cffdbc1a",
      "metadata": {
        "id": "cffdbc1a"
      },
      "outputs": [],
      "source": [
        "import cv2\n",
        "import numpy as np"
      ]
    },
    {
      "cell_type": "code",
      "execution_count": null,
      "id": "b04f69f3",
      "metadata": {
        "id": "b04f69f3"
      },
      "outputs": [],
      "source": [
        "def sd_to_hd_converter(input_video_path, output_video_path):\n",
        "    sd_video = cv2.VideoCapture(input_video_path)\n",
        "    fps = sd_video.get(cv2.CAP_PROP_FPS)\n",
        "    fourcc = cv2.VideoWriter_fourcc(*'jpeg')\n",
        "\n",
        "    hd_video = cv2.VideoWriter(output_video_path, fourcc, fps, (1280,720))\n",
        "\n",
        "    while(sd_video.isOpened()):\n",
        "        ret, frame = sd_video.read()\n",
        "\n",
        "        if ret :\n",
        "            hd_frame = cv2.resize(frame, (1280,720), interpolation = cv2.INTER_CUBIC)\n",
        "\n",
        "            mask = np.zeros((720,1280), np.uint8)\n",
        "            mask[:, 0:160] = 255\n",
        "            mask[:, 1080:1280] = 255\n",
        "\n",
        "            inpainted_frame = cv2.inpaint(hd_frame, mask, 3, cv2.INPAINT_TELEA)\n",
        "\n",
        "            break\n",
        "\n",
        "            hd_video.write(inpainted_frame)\n",
        "\n",
        "        else:\n",
        "            break\n",
        "\n",
        "    sd_video.release()\n",
        "    hd_video.release()"
      ]
    },
    {
      "cell_type": "code",
      "execution_count": null,
      "id": "24ddba85",
      "metadata": {
        "id": "24ddba85"
      },
      "outputs": [],
      "source": []
    }
  ],
  "metadata": {
    "kernelspec": {
      "display_name": "Python 3 (ipykernel)",
      "language": "python",
      "name": "python3"
    },
    "language_info": {
      "codemirror_mode": {
        "name": "ipython",
        "version": 3
      },
      "file_extension": ".py",
      "mimetype": "text/x-python",
      "name": "python",
      "nbconvert_exporter": "python",
      "pygments_lexer": "ipython3",
      "version": "3.7.16"
    },
    "colab": {
      "provenance": []
    }
  },
  "nbformat": 4,
  "nbformat_minor": 5
}